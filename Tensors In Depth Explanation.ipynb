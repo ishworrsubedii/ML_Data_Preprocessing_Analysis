{
 "cells": [
  {
   "cell_type": "markdown",
   "id": "099732ea",
   "metadata": {},
   "source": [
    "# Day-3\n",
    "<!DOCTYPE html>\n",
    "<html>\n",
    "<head>\n",
    "</head>\n",
    "<body>\n",
    "  <h1>Challenges In Machine Learning</h1>\n",
    "  <ol>\n",
    "    <li>\n",
    "      <h3>Data Collection</h3>\n",
    "      <ul>\n",
    "        <li>Mostly we will collect data from two sources for real world projects. First one is from API (like Flickr) and second one is using web scraping (like Google).</li>\n",
    "      </ul>\n",
    "    </li>\n",
    "    <li>Insufficient data/labeled data</li>\n",
    "    <li>Non Representative Data</li>\n",
    "    <li>Poor Quality of data</li>\n",
    "    <li>Irrelevant features</li>\n",
    "    <li>Overfitting</li>\n",
    "    <li>Underfitting</li>\n",
    "    <li>Software Integration</li>\n",
    "    <li>Offline Learning/Deployment</li>\n",
    "    <ul>\n",
    "      <li>To fit new data to the previous ML model, the offline learning and deployment method will be quite expensive.</li>\n",
    "    </ul>\n",
    "    <li>Cost Involved</li>\n",
    "    <ul>\n",
    "      <li>Hidden cost of ML model deployment will be high.</li>\n",
    "    </ul>\n",
    "  </ol>\n",
    "\n",
    "  <h1>Application of Machine Learning</h1>\n",
    "  <h3>B2C</h3>\n",
    "  <ul>\n",
    "    <li>Facebook Friends Recommendation</li>\n",
    "    <li>Product Recommendation</li>\n",
    "    <li>Video Recommendation</li>\n",
    "  </ul>\n",
    "  <h3>B2B</h3>\n",
    "  <ul>\n",
    "    <li>Retail</li>\n",
    "    <li>Banking and Finance</li>\n",
    "    <li>Transport (Logistic Service)</li>\n",
    "    <li>Manufacturing-Tesla (Robotic Arm)</li>\n",
    "    <li>Consumer Internet- Twitter (Sentimental Analysis)</li>\n",
    "  </ul>\n",
    "  <p>\n",
    "    At first, Twitter was not really earning money from it, so they decided to create sentimental analysis of hashtags topics and sell them to people who were really into the share market, and so on. Let's take an example of who is going to be the next PM of Nepal, so Twitter will collect the data related to #election2029 and analyze that tweet and sell it to the necessary persona, and that persona will return money to Twitter. This is just an example of sentimental analysis implemented by Twitter.\n",
    "  </p>\n",
    "\n",
    "  <h1>Machine Learning Development Life Cycle (MLDLC)</h1>\n",
    "  <ol>\n",
    "    <li>\n",
    "      <h3>Frame the problem</h3>\n",
    "      <ul>\n",
    "        <li>Identify the problem.</li>\n",
    "      </ul>\n",
    "    </li>\n",
    "    <li>\n",
    "      <h3>Gather Data</h3>\n",
    "      <ul>\n",
    "        <li>Csv</li>\n",
    "        <li>API</li>\n",
    "        <li>Web Scraping</li>\n",
    "        <li>Database</li>\n",
    "        <li>Spark Clusters</li>\n",
    "      </ul>\n",
    "    </li>\n",
    "    <li>\n",
    "      <h3>Data Preprocessing</h3>\n",
    "      <ul>\n",
    "        <li>Remove duplicates</li>\n",
    "        <li>Remove missing values</li>\n",
    "        <li>Remove outliers</li>\n",
    "        <li>Standardization (Scaling)</li>\n",
    "      </ul>\n",
    "    </li>\n",
    "    <li>\n",
    "      <h3>Exploratory data analysis</h3>\n",
    "      <ul>\n",
    "        <li>Visualization of Data</li>\n",
    "        <li>Univariate/Bivariate\n",
    "</li>\n",
    "        <li>Outlier detection</li>\n",
    "        <li>Data Balance</li>\n",
    "      </ul>\n",
    "    </li>\n",
    "    <li>\n",
    "      <h3>Feature engineering and selection</h3>\n",
    "    </li>\n",
    "    <li>\n",
    "      <h3>Model Training, Evaluation, and Selection</h3>\n",
    "      <ul>\n",
    "        <li>In this process, we will train all possible algorithms for that particular dataset and select which algorithm is best for the dataset. We can also say that we will evaluate all algorithm models.</li>\n",
    "        <li>Ensemble learnings: We will use more algorithms, or we will add multiple ML algorithms and make new powerful methods or algorithms that include</li>\n",
    "        <ul>\n",
    "          <li>Hyperparameter Tuning</li>\n",
    "          <li>Bagging, boosting, stacking, buckets of models, voting [Wikipedia.org]</li>\n",
    "        </ul>\n",
    "      </ul>\n",
    "    </li>\n",
    "    <li>\n",
    "      <h3>Model deployment</h3>\n",
    "    </li>\n",
    "    <li>\n",
    "      <h3>Testing</h3>\n",
    "      <ul>\n",
    "        <li>We will give new updates to loyal customers, and that loyal customer will give you feedback about ML models.</li>\n",
    "        <li>A/B testing is used to measure how your model is actually doing.</li>\n",
    "      </ul>\n",
    "    </li>\n",
    "    <li>\n",
    "      <h3>Optimize</h3>\n",
    "      <ul>\n",
    "        <li>Model Backup</li>\n",
    "        <li>Data Backup</li>\n",
    "        <li>Rollback Automation</li>\n",
    "        <li>Load balancing</li>\n",
    "        <li>Model Retrain: [Rotting]: It is a concept of a model not doing well after some days, months, and so on.</li>\n",
    "      </ul>\n",
    "    </li>\n",
    "  </ol>\n",
    "  <h1>Data Engineer Vs Data Analyst Vs Data Scientist Vs ML Engineer</h1>\n",
    "  <ol>\n",
    "    <li>Data Engineer: In simpler terms, its role is to scrape the data, and we can also say that they will do the data collection process.</li>\n",
    "    <li>Data Analyst: Their main role is to do data preprocess and visualize the data.</li>\n",
    "    <li>Data Scientist: The main role of a data scientist is to determine what we can make from using the above data which is provided by a data engineer and data analyst.</li>\n",
    "    <li>ML Engineer: The main role of ML engineer is to deploy the ML model to a product-ready environment and monitor and maintain the deployed model.</li>\n",
    "  </ol>\n",
    "  <h1>Tensors and its in-depth knowledge</h1>\n",
    "  <ul>\n",
    "    <li>Tensors are the data structure.</li>\n",
    "    <li>Or we can also say that it is the container of numbers where we will store the numerical data only (most of the time).</li>\n",
    "    <li>Vector-Matrix=Tensors</li>\n",
    "    <li>\n",
    "      <h3>0-Dimensional</h3>\n",
    "      <ul>\n",
    "        <li>np.array(4)</li>\n",
    "        <li>Output: array(4) # Single Number/scalar.</li>\n",
    "      </ul>\n",
    "    </li>\n",
    "    <li>\n",
    "      <h3>1-Dimensional</h3>\n",
    "      <ul>\n",
    "        <li>np.array([1,2,3,4])</li>\n",
    "        <li>It is 1-dimensional data /4 vector/1d array</li>\n",
    "      </ul>\n",
    "    </li>\n",
    "    <li>\n",
    "      <h3>2-Dimensional</h3>\n",
    "      <ul>\n",
    "        <li>np.array([[1,2,3],[4,5,6],[7,8,9]])</li>\n",
    "<li>It is 2D tensors or we can also say that it is the collection of vectors.</li>\n",
    "</ul>\n",
    "</li>\n",
    "<li>\n",
    "<h3>3-dimensional</h3>\n",
    "<ul>\n",
    "<li>Example of 3D is a single RGB image</li>\n",
    "<li>Dimensions=(height of image, width of image, color channel)</li>\n",
    "</ul>\n",
    "</li>\n",
    "<li>\n",
    "<h3>4-Dimensional</h3>\n",
    "<ul>\n",
    "<li>Multiple images like 20 images</li>\n",
    "<li>Dimensions=(total image, height, width, channel)</li>\n",
    "</ul>\n",
    "</li>\n",
    "<li>\n",
    "<h3>5-Dimensional</h3>\n",
    "<ul>\n",
    "<li>Video of 60 sec</li>\n",
    "<li>Dimensions=(times, frames, height, width, channels)</li>\n",
    "<li>Shape(60 sec, 30 fps, 420, 720, 3)</li>\n",
    "</ul>\n",
    "</li>\n",
    "\n",
    "  </ul>\n",
    "</body>\n",
    "</html>"
   ]
  },
  {
   "cell_type": "markdown",
   "id": "1fdcd788",
   "metadata": {},
   "source": [
    "# Tensors "
   ]
  },
  {
   "cell_type": "markdown",
   "id": "798ed890",
   "metadata": {},
   "source": [
    "- Tensors is nothing but it is data structure\n",
    "- It is a conatainer for numbers[99% numbers]"
   ]
  },
  {
   "cell_type": "markdown",
   "id": "b667593e",
   "metadata": {},
   "source": [
    "##### We can also say that vector-Metrix to Tensors\n",
    ">-  0-Dimensionsional      = Scaler\n",
    ">- List of numbers         = Vector\n",
    ">- 2d                      =Matrix\n",
    ">- 3d-4d                   =Tensors"
   ]
  },
  {
   "cell_type": "code",
   "execution_count": 2,
   "id": "87e3463b",
   "metadata": {},
   "outputs": [],
   "source": [
    "import numpy as np\n"
   ]
  },
  {
   "cell_type": "markdown",
   "id": "2dd1fedd",
   "metadata": {},
   "source": [
    "- Axis=Dimension\n",
    "- ndim=to check the dimension\n",
    "- & \n",
    "- Number of Axis =Rank\n",
    "- Rank=Dimension"
   ]
  },
  {
   "cell_type": "markdown",
   "id": "10df0340",
   "metadata": {},
   "source": [
    "### 0-d Tensors"
   ]
  },
  {
   "cell_type": "code",
   "execution_count": 3,
   "id": "f40a28bd",
   "metadata": {},
   "outputs": [
    {
     "data": {
      "text/plain": [
       "array(4)"
      ]
     },
     "execution_count": 3,
     "metadata": {},
     "output_type": "execute_result"
    }
   ],
   "source": [
    "zero_d=np.array(4)\n",
    "zero_d\n",
    "# We can say thisis 0d tensors"
   ]
  },
  {
   "cell_type": "code",
   "execution_count": 4,
   "id": "c5e63cce",
   "metadata": {},
   "outputs": [
    {
     "data": {
      "text/plain": [
       "0"
      ]
     },
     "execution_count": 4,
     "metadata": {},
     "output_type": "execute_result"
    }
   ],
   "source": [
    "zero_d.ndim # this is used to check the dimension of the array or tensors"
   ]
  },
  {
   "cell_type": "markdown",
   "id": "50acf9af",
   "metadata": {},
   "source": [
    "### 1-D Tensors/Vector"
   ]
  },
  {
   "cell_type": "code",
   "execution_count": 5,
   "id": "d3468d8c",
   "metadata": {},
   "outputs": [
    {
     "data": {
      "text/plain": [
       "array([1, 2, 3, 4])"
      ]
     },
     "execution_count": 5,
     "metadata": {},
     "output_type": "execute_result"
    }
   ],
   "source": [
    "one_d=np.array([1,2,3,4])\n",
    "one_d"
   ]
  },
  {
   "cell_type": "code",
   "execution_count": 6,
   "id": "bd89f7de",
   "metadata": {},
   "outputs": [
    {
     "data": {
      "text/plain": [
       "1"
      ]
     },
     "execution_count": 6,
     "metadata": {},
     "output_type": "execute_result"
    }
   ],
   "source": [
    "one_d.ndim # to check the dimension of tensors\n"
   ]
  },
  {
   "cell_type": "markdown",
   "id": "6b79ae52",
   "metadata": {},
   "source": [
    "### 2-d Tensors"
   ]
  },
  {
   "cell_type": "code",
   "execution_count": 7,
   "id": "4bafadf6",
   "metadata": {},
   "outputs": [
    {
     "data": {
      "text/plain": [
       "array([[1, 2, 3],\n",
       "       [4, 5, 6],\n",
       "       [7, 8, 9]])"
      ]
     },
     "execution_count": 7,
     "metadata": {},
     "output_type": "execute_result"
    }
   ],
   "source": [
    "two_d = np.array([[1, 2, 3],\n",
    "                    [4, 5, 6],\n",
    "                    [7, 8, 9]])\n",
    "two_d"
   ]
  },
  {
   "cell_type": "markdown",
   "id": "63bd640f",
   "metadata": {},
   "source": [
    "### 3-d Tensors\n",
    "- Image Height, Image Width ,Color Channel"
   ]
  },
  {
   "cell_type": "code",
   "execution_count": null,
   "id": "6a1bdc64",
   "metadata": {},
   "outputs": [],
   "source": [
    "three_d = np.array([[[1, 2, 3],\n",
    "                     [4, 5, 6],\n",
    "                     [7, 8, 9]],\n",
    "                    \n",
    "                    [[10, 11, 12],\n",
    "                     [13, 14, 15],\n",
    "                     [16, 17, 18]],\n",
    "                    \n",
    "                    [[19, 20, 21],\n",
    "                     [22, 23, 24],\n",
    "                     [25, 26, 27]]])\n",
    "\n",
    "print(three_d)\n"
   ]
  },
  {
   "cell_type": "markdown",
   "id": "37b60349",
   "metadata": {},
   "source": [
    "### 4-d Tensors\n",
    "- Collection of Images"
   ]
  },
  {
   "cell_type": "code",
   "execution_count": null,
   "id": "cc4ca4c2",
   "metadata": {},
   "outputs": [],
   "source": [
    "four_d = np.array([[[[1, 2, 3],\n",
    "                      [4, 5, 6],\n",
    "                      [7, 8, 9]],\n",
    "                     \n",
    "                     [[10, 11, 12],\n",
    "                      [13, 14, 15],\n",
    "                      [16, 17, 18]],\n",
    "                     \n",
    "                     [[19, 20, 21],\n",
    "                      [22, 23, 24],\n",
    "                      [25, 26, 27]]],\n",
    "\n",
    "                    [[[28, 29, 30],\n",
    "                      [31, 32, 33],\n",
    "                      [34, 35, 36]],\n",
    "                     \n",
    "                     [[37, 38, 39],\n",
    "                      [40, 41, 42],\n",
    "                      [43, 44, 45]],\n",
    "                     \n",
    "                     [[46, 47, 48],\n",
    "                      [49, 50, 51],\n",
    "                      [52, 53, 54]]]])\n",
    "\n",
    "print(four_d)\n"
   ]
  },
  {
   "cell_type": "markdown",
   "id": "cae052e4",
   "metadata": {},
   "source": [
    "### 5-d Tensors\n",
    "- Video(60 Sec,30 Fps,480 height,720 width,3 colors channel(RGB)"
   ]
  },
  {
   "cell_type": "code",
   "execution_count": 11,
   "id": "509fbb9d",
   "metadata": {},
   "outputs": [
    {
     "name": "stdout",
     "output_type": "stream",
     "text": [
      "[[[[[  1   2   3]\n",
      "    [  4   5   6]\n",
      "    [  7   8   9]]\n",
      "\n",
      "   [[ 10  11  12]\n",
      "    [ 13  14  15]\n",
      "    [ 16  17  18]]\n",
      "\n",
      "   [[ 19  20  21]\n",
      "    [ 22  23  24]\n",
      "    [ 25  26  27]]]\n",
      "\n",
      "\n",
      "  [[[ 28  29  30]\n",
      "    [ 31  32  33]\n",
      "    [ 34  35  36]]\n",
      "\n",
      "   [[ 37  38  39]\n",
      "    [ 40  41  42]\n",
      "    [ 43  44  45]]\n",
      "\n",
      "   [[ 46  47  48]\n",
      "    [ 49  50  51]\n",
      "    [ 52  53  54]]]]\n",
      "\n",
      "\n",
      "\n",
      " [[[[ 55  56  57]\n",
      "    [ 58  59  60]\n",
      "    [ 61  62  63]]\n",
      "\n",
      "   [[ 64  65  66]\n",
      "    [ 67  68  69]\n",
      "    [ 70  71  72]]\n",
      "\n",
      "   [[ 73  74  75]\n",
      "    [ 76  77  78]\n",
      "    [ 79  80  81]]]\n",
      "\n",
      "\n",
      "  [[[ 82  83  84]\n",
      "    [ 85  86  87]\n",
      "    [ 88  89  90]]\n",
      "\n",
      "   [[ 91  92  93]\n",
      "    [ 94  95  96]\n",
      "    [ 97  98  99]]\n",
      "\n",
      "   [[100 101 102]\n",
      "    [103 104 105]\n",
      "    [106 107 108]]]]]\n"
     ]
    }
   ],
   "source": [
    "five_d = np.array([[[[[1, 2, 3],\n",
    "                       [4, 5, 6],\n",
    "                       [7, 8, 9]],\n",
    "                      \n",
    "                      [[10, 11, 12],\n",
    "                       [13, 14, 15],\n",
    "                       [16, 17, 18]],\n",
    "                      \n",
    "                      [[19, 20, 21],\n",
    "                       [22, 23, 24],\n",
    "                       [25, 26, 27]]],\n",
    "                     \n",
    "                     [[[28, 29, 30],\n",
    "                       [31, 32, 33],\n",
    "                       [34, 35, 36]],\n",
    "                      \n",
    "                      [[37, 38, 39],\n",
    "                       [40, 41, 42],\n",
    "                       [43, 44, 45]],\n",
    "                      \n",
    "                      [[46, 47, 48],\n",
    "                       [49, 50, 51],\n",
    "                       [52, 53, 54]]]],\n",
    "                   \n",
    "                    \n",
    "                    [[[[55, 56, 57],\n",
    "                       [58, 59, 60],\n",
    "                       [61, 62, 63]],\n",
    "                      \n",
    "                      [[64, 65, 66],\n",
    "                       [67, 68, 69],\n",
    "                       [70, 71, 72]],\n",
    "                      \n",
    "                      [[73, 74, 75],\n",
    "                       [76, 77, 78],\n",
    "                       [79, 80, 81]]],\n",
    "                     \n",
    "                     [[[82, 83, 84],\n",
    "                       [85, 86, 87],\n",
    "                       [88, 89, 90]],\n",
    "                      \n",
    "                      [[91, 92, 93],\n",
    "                       [94, 95, 96],\n",
    "                       [97, 98, 99]],\n",
    "                      \n",
    "                      [[100, 101, 102],\n",
    "                       [103, 104, 105],\n",
    "                       [106, 107, 108]]]]])\n",
    "\n",
    "print(five_d)\n",
    "\n"
   ]
  },
  {
   "cell_type": "code",
   "execution_count": 12,
   "id": "dff598d1",
   "metadata": {},
   "outputs": [
    {
     "data": {
      "text/plain": [
       "5"
      ]
     },
     "execution_count": 12,
     "metadata": {},
     "output_type": "execute_result"
    }
   ],
   "source": [
    "np.ndim(five_d)"
   ]
  }
 ],
 "metadata": {
  "kernelspec": {
   "display_name": "Python 3 (ipykernel)",
   "language": "python",
   "name": "python3"
  },
  "language_info": {
   "codemirror_mode": {
    "name": "ipython",
    "version": 3
   },
   "file_extension": ".py",
   "mimetype": "text/x-python",
   "name": "python",
   "nbconvert_exporter": "python",
   "pygments_lexer": "ipython3",
   "version": "3.9.13"
  }
 },
 "nbformat": 4,
 "nbformat_minor": 5
}
